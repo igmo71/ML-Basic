{
 "cells": [
  {
   "cell_type": "markdown",
   "id": "e2450ffa",
   "metadata": {},
   "source": [
    "# Домашнее задание: Функции"
   ]
  },
  {
   "cell_type": "markdown",
   "id": "8d062500",
   "metadata": {},
   "source": [
    "## Задание 1: Конвертер регистров\n",
    "\n",
    "Написать функцию, которая будет переводить snake_case в PascalCase и наоборот. \n",
    "\n",
    "Функция должна сама определять - какой формат ей передали. Можно добавить ключевой аргумент, который будет принудительно возвращать один из форматов.\n",
    "\n",
    "<br>\n",
    "\n",
    "**Примеры:**\n",
    "* `otus_course     -> OtusCourse`\n",
    "* `PythonIsTheBest -> python_is_the_best`\n",
    "\n"
   ]
  },
  {
   "cell_type": "code",
   "execution_count": 3,
   "id": "ec0075f5",
   "metadata": {},
   "outputs": [
    {
     "name": "stdout",
     "output_type": "stream",
     "text": [
      "PythonIsTheBest -> python_is_the_best\n"
     ]
    }
   ],
   "source": [
    "src = input(\"Input string: \")\n",
    "\n",
    "def camel_to_snake(value):\n",
    "    return ''.join(['_' + i.lower() if i.isupper() else i for i in value]).lstrip('_')\n",
    "\n",
    "if src.islower():\n",
    "    import stringcase\n",
    "    print(f\"{src} -> {stringcase.pascalcase(src)}\")\n",
    "else:\n",
    "    print(f\"{src} -> {camel_to_snake(src)}\")  "
   ]
  },
  {
   "cell_type": "markdown",
   "id": "b8253fb9",
   "metadata": {},
   "source": [
    "## Задание 2: Проверка валидности даты\n",
    "\n",
    "Написать функцию проверяющую валидность введенной даты.\n",
    "\n",
    "<br>\n",
    "\n",
    "**Примеры:**\n",
    "* `29.02.2000 -> True`\n",
    "* `29.02.2001 -> False`\n",
    "* `31.04.1962 -> False`\n",
    "\n"
   ]
  },
  {
   "cell_type": "code",
   "execution_count": 4,
   "id": "e7f4e9c8",
   "metadata": {},
   "outputs": [
    {
     "name": "stdout",
     "output_type": "stream",
     "text": [
      "29.02.2001 -> False\n"
     ]
    }
   ],
   "source": [
    "from datetime import datetime\n",
    "\n",
    "src = input(\"Input date (DD.MM.YYYY): \")\n",
    "\n",
    "def is_valid_date(date_str):\n",
    "    try:\n",
    "        datetime.strptime(date_str, \"%d.%m.%Y\").date()\n",
    "        return True\n",
    "    except:\n",
    "        return False\n",
    "\n",
    "\n",
    "print(f\"{src} -> {is_valid_date(src)}\")"
   ]
  },
  {
   "cell_type": "markdown",
   "id": "2d77053e",
   "metadata": {},
   "source": [
    "## Задание 3: Проверка на простое число\n",
    "\n",
    "Функция проверки на простое число. Простые числа – это такие числа, которые делятся на себя и на единицу.\n",
    "\n",
    "<br>\n",
    "\n",
    "**Примеры:**\n",
    "* `17 -> True`\n",
    "* `20 -> False`\n",
    "* `23 -> True`"
   ]
  },
  {
   "cell_type": "code",
   "execution_count": 5,
   "id": "c20728f6",
   "metadata": {},
   "outputs": [
    {
     "name": "stdout",
     "output_type": "stream",
     "text": [
      "20 -> False\n"
     ]
    }
   ],
   "source": [
    "src = input(\"Input number: \")\n",
    "\n",
    "def is_prime(n):\n",
    "    d = 2\n",
    "    while n % d != 0:\n",
    "        d += 1\n",
    "    return d == n\n",
    "\n",
    "print(f\"{src} -> {is_prime(int(src))}\")"
   ]
  },
  {
   "cell_type": "markdown",
   "id": "29703efe",
   "metadata": {},
   "source": [
    "## Задание 4: Учет пользователей\n",
    "\n",
    "Пользователь в бесконечном цикле вводит данные пользователей: имя, затем фамилию, возраст и ID. Ввод продолжается до тех пор, пока не будет введено пустое поле. \n",
    "\n",
    "Пользователи заносятся в словарь, где ключ это ID пользователя, а остальные данные записываются в виде кортежа. \n",
    "\n",
    "**Программа должна проверять:**\n",
    "* имя и фамилия состоят только из символов и начинаются с большой буквы - если не с большой, то заменяет букву на большую;\n",
    "* возраст должен быть числом от 18 до 60;\n",
    "* ID - целое число, дополненное до 8 знаков незначащими нулями, ID должен быть уникальным.\n",
    "\n",
    "**Дополнительно:** написать функцию, которая будет выводить полученный словарь в виде таблицы."
   ]
  },
  {
   "cell_type": "code",
   "execution_count": null,
   "id": "54d1f971",
   "metadata": {},
   "outputs": [],
   "source": [
    "def handle_name(name):\n",
    "    if not name.isalpha():\n",
    "        raise ValueError(\"Name mast be string\")\n",
    "    return name.capitalize()\n",
    "    \n",
    "def handle_age(age):\n",
    "    result = int(age)\n",
    "    if not 18 <= result <= 60:\n",
    "        raise ValueError(\"Age mast be from 18 to 60\")\n",
    "    return result\n",
    "\n",
    "def handle_id(id, keys):\n",
    "    if id in keys:\n",
    "        raise ValueError(\"Id is not unique\")\n",
    "    return id.zfill(8)\n",
    "\n",
    "def handle_person(person_str : str, people : dict):\n",
    "    person = person_str.split(' ')\n",
    "    try:        \n",
    "        firstname = handle_name(person[0])        \n",
    "        lastname = handle_name(person[1])\n",
    "        age = handle_age(person[2])  \n",
    "        id = handle_id(person[3], people.keys())\n",
    "        people[id] = (firstname, lastname, age)\n",
    "    except Exception as e:\n",
    "        print(f\"{person_str} - {e}\")\n",
    "        return\n",
    "\n",
    "src = input(\"Input Person (Firstname Lastname Age Id): \")\n",
    "people = {}\n",
    "while src:\n",
    "    handle_person(src, people)\n",
    "    src  = input(\"Input Person: \")\n",
    "\n",
    "print(people)"
   ]
  }
 ],
 "metadata": {
  "kernelspec": {
   "display_name": "Python 3",
   "language": "python",
   "name": "python3"
  },
  "language_info": {
   "codemirror_mode": {
    "name": "ipython",
    "version": 3
   },
   "file_extension": ".py",
   "mimetype": "text/x-python",
   "name": "python",
   "nbconvert_exporter": "python",
   "pygments_lexer": "ipython3",
   "version": "3.12.6"
  }
 },
 "nbformat": 4,
 "nbformat_minor": 5
}
