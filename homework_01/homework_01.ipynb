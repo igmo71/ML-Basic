{
 "cells": [
  {
   "cell_type": "markdown",
   "id": "8955a739",
   "metadata": {},
   "source": [
    "# Домашнее задание: Базовые типы данных\n",
    "\n"
   ]
  },
  {
   "cell_type": "markdown",
   "id": "d4e67b86",
   "metadata": {},
   "source": [
    "## Задание 1: Зеркальное отражение цифр\n",
    "\n",
    "Пользователь вводит пятизначное число. Программа должна зеркально отразить три центральные цифры. Первая и последняя остаются на местах.\n",
    "\n",
    "<br>\n",
    "\n",
    "**Примеры:**\n",
    "* `23456 -> 25436`\n",
    "* `30789 -> 38709`"
   ]
  },
  {
   "cell_type": "code",
   "execution_count": null,
   "id": "5a4d665d",
   "metadata": {},
   "outputs": [
    {
     "name": "stdout",
     "output_type": "stream",
     "text": [
      "23456 -> 25436\n"
     ]
    }
   ],
   "source": [
    "str = input(\"Input string: \")\n",
    "\n",
    "result = f\"{str[0]}{str[len(str)-2:0:-1]}{str[-1]}\"\n",
    "\n",
    "print(f\"{str} -> {result}\")"
   ]
  },
  {
   "cell_type": "markdown",
   "id": "00b9578b",
   "metadata": {},
   "source": [
    "## Задание 2: Подсчет выходных до отпуска\n",
    "\n",
    "Пользователь вводит сколько дней осталось до ближайшего отпуска. Программа должна вывести количество выходных дней до отпуска, если учесть, что выходные это суббота и воскресенье, сегодня понедельник и праздники мы не учитываем.  \n",
    "\n",
    "<br>\n",
    "\n",
    "**Примеры:**\n",
    "* `4  -> 0`\n",
    "* `6  -> 1`\n",
    "* `14 -> 4`"
   ]
  },
  {
   "cell_type": "code",
   "execution_count": 6,
   "id": "07154103",
   "metadata": {},
   "outputs": [
    {
     "name": "stdout",
     "output_type": "stream",
     "text": [
      "14 -> 4\n"
     ]
    }
   ],
   "source": [
    "num = int(input(\"Input number: \"))\n",
    "\n",
    "result = ((num // 7) * 2) + ((num - (num // 7) * 7) // 6)\n",
    "\n",
    "print(f\"{num} -> {result}\")"
   ]
  },
  {
   "cell_type": "markdown",
   "id": "cdde282c",
   "metadata": {},
   "source": [
    "## Задание 3: Плитка шоколада\n",
    "\n",
    "Пользователь вводит длину и ширину плитки шоколада, а также размер куска, который хочет отломить. Программа должна вычислить - можно ли совершить подобный разлом или нет, если учесть, что ломать можно только по прямой.\n",
    "\n",
    "<br>\n",
    "\n",
    "**Примеры:**\n",
    "* `3, 4, 6  -> True`\n",
    "* `5, 7, 8  -> False`\n",
    "* `4, 5, 12 -> True`"
   ]
  },
  {
   "cell_type": "code",
   "execution_count": 11,
   "id": "70f3324c",
   "metadata": {},
   "outputs": [
    {
     "name": "stdout",
     "output_type": "stream",
     "text": [
      "4, 5, 12 -> True\n"
     ]
    }
   ],
   "source": [
    "str = input(\"Input string: \")\n",
    "\n",
    "params = [int(i) for i in str.split(\", \")]\n",
    "\n",
    "result = params[2] % params[0] == 0 or params[2] % params[1] == 0\n",
    "\n",
    "print(f\"{str} -> {result}\")"
   ]
  },
  {
   "cell_type": "markdown",
   "id": "6470efc1",
   "metadata": {},
   "source": [
    "## Задание 4: Римские числа\n",
    "\n",
    "Пользователь вводит целое положительное число, программа должна вернуть строку в виде римского числа.\n",
    "\n",
    "<br>\n",
    "\n",
    "**Примеры:**\n",
    "* `3   -> III`\n",
    "* `15  -> XV`\n",
    "* `234 -> CCXXXIV`"
   ]
  },
  {
   "cell_type": "code",
   "execution_count": 14,
   "id": "8686127c",
   "metadata": {},
   "outputs": [
    {
     "name": "stdout",
     "output_type": "stream",
     "text": [
      "0 -> CCXXXIV\n"
     ]
    }
   ],
   "source": [
    "num = int(input(\"Input number: \"))\n",
    "\n",
    "all_roman = [(1000, 'M'), (900, 'CM'), (500, 'D'), (400, 'CD'), (100, 'C'), (90, 'XC'), (50, 'L'), (40, 'XL'), (10, 'X'), (9, 'IX'), (5, 'V'), (4, 'IV'), (1, 'I')]\n",
    "\n",
    "roman = ''\n",
    "\n",
    "while num > 0:\n",
    "    for n, r in all_roman:\n",
    "        while num >= n:\n",
    "            roman += r\n",
    "            num -= n\n",
    "\n",
    "print(f\"{num} -> {roman}\")"
   ]
  },
  {
   "cell_type": "markdown",
   "id": "ca6a4c0a",
   "metadata": {},
   "source": [
    "## Задание 5: Проверка на вещественное число\n",
    "\n",
    "Пользователь вводит данные, проверить - являются ли они положительным вещественным числом. Не использовать встроенные функции для проверки, только методы данных и конструкцию IF. (Дополнительное задание, по желанию - проверка на отрицательные вещественные числа)\n",
    "\n",
    "<br>\n",
    "\n",
    "**Примеры:**\n",
    "* `5.6  -> True`\n",
    "* `.78  -> True`\n",
    "* `.67. -> False`\n",
    "* `5    -> True`"
   ]
  },
  {
   "cell_type": "code",
   "execution_count": 18,
   "id": "74e39179",
   "metadata": {},
   "outputs": [
    {
     "name": "stdout",
     "output_type": "stream",
     "text": [
      "True\n"
     ]
    }
   ],
   "source": [
    "try:\n",
    "    num = float(input(\"Input number: \"))  \n",
    "    print(True)    \n",
    "except:\n",
    "    print(False) "
   ]
  }
 ],
 "metadata": {
  "kernelspec": {
   "display_name": "Python 3",
   "language": "python",
   "name": "python3"
  },
  "language_info": {
   "codemirror_mode": {
    "name": "ipython",
    "version": 3
   },
   "file_extension": ".py",
   "mimetype": "text/x-python",
   "name": "python",
   "nbconvert_exporter": "python",
   "pygments_lexer": "ipython3",
   "version": "3.12.6"
  }
 },
 "nbformat": 4,
 "nbformat_minor": 5
}
