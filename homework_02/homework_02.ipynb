{
 "cells": [
  {
   "cell_type": "markdown",
   "id": "a2c501e6",
   "metadata": {},
   "source": [
    "# Домашнее задание: Управляющие конструкции"
   ]
  },
  {
   "cell_type": "markdown",
   "id": "3e4cac4a",
   "metadata": {},
   "source": [
    "## Задание 1: Получение однозначного числа\n",
    "\n",
    "Пользователь вводит целое число, программа складывает все цифры числа, с полученным числом — то же самое, и так до тех пор, пока не получится однозначное число.\n",
    "\n",
    "<br>\n",
    "\n",
    "**Примеры:**\n",
    "* `545   -> 5`\n",
    "* `12345 -> 6`"
   ]
  },
  {
   "cell_type": "code",
   "execution_count": null,
   "id": "344e919f",
   "metadata": {},
   "outputs": [],
   "source": [
    "src = input(\"Input integer: \")\n",
    "\n",
    "while len(src) > 1:\n",
    "    num = 0\n",
    "    for char in src:\n",
    "        num += int(char)\n",
    "    src = str(num)\n",
    "        \n",
    "\n",
    "print(f\"Result: {src}\")"
   ]
  },
  {
   "cell_type": "markdown",
   "id": "45527a4a",
   "metadata": {},
   "source": [
    "## Задание 2: Кинотеатр\n",
    "\n",
    "Дан список списков, каждый вложенный список состоит из 1 и 0, количество вложенных списков — количество рядов. Пользователь вводит, сколько билетов ему требуется. Программа должна найти ряд, где можно приобрести нужное количество билетов (места должны быть рядом). Если таких рядов несколько, то ближайший к экрану (ближайшим считается нулевой ряд). Если таких мест нет, то вывести False.\n",
    "\n",
    "<br>\n",
    "\n",
    "**Примеры:**\n",
    "* `[[0,1,1,0], [1,0,0,0], [0,1,0,0]], 2 -> 1`\n",
    "* `[[0,1,1,0], [1,0,1,0], [1,1,0,1]], 2 -> False`"
   ]
  },
  {
   "cell_type": "code",
   "execution_count": 2,
   "id": "3a29082d",
   "metadata": {},
   "outputs": [
    {
     "name": "stdout",
     "output_type": "stream",
     "text": [
      "2 -> 1\n"
     ]
    }
   ],
   "source": [
    "src = int(input(\"Input count: \"))\n",
    "\n",
    "plan = [[0,1,1,0], [1,0,0,0], [0,1,0,0]]\n",
    "#plan = [[0,1,1,0], [1,0,1,0], [1,1,0,1]]\n",
    "\n",
    "result = False\n",
    "\n",
    "for index, row in enumerate(plan):\n",
    "    nearby_count = 0\n",
    "    for place in row:\n",
    "        if place == 0:\n",
    "            nearby_count += 1\n",
    "        else:\n",
    "            nearby_count = 0\n",
    "        if nearby_count == src:\n",
    "            result = index\n",
    "            break\n",
    "    if result:  \n",
    "        break\n",
    "\n",
    "print(f\"{src} -> {result}\")      "
   ]
  },
  {
   "cell_type": "markdown",
   "id": "7b7f098c",
   "metadata": {},
   "source": [
    "## Задание 3: Алгоритм RLE\n",
    "\n",
    "Необходимо написать упрощенную версию алгоритма RLE. \n",
    "Алгоритм RLE объединяет подряд идущие символы в коэффициент и символ.\n",
    "\n",
    "<br>\n",
    "\n",
    "**Примеры:**\n",
    "* `asssdddsssddd -> 1a3s3d3s3d`\n",
    "* `aaabbbbccccc  -> 3a4b5c`\n",
    "* `abcba         -> 1a1b1c1b1a`"
   ]
  },
  {
   "cell_type": "code",
   "execution_count": null,
   "id": "e0d30ec2",
   "metadata": {},
   "outputs": [],
   "source": [
    "src = input(\"Input string: \")\n",
    "\n",
    "current = src[0]\n",
    "counter = 0\n",
    "result = \"\"\n",
    "\n",
    "for char in src:\n",
    "    if current == char:\n",
    "        counter += 1\n",
    "    else:        \n",
    "        result += f\"{counter}{current}\"\n",
    "        current = char\n",
    "        counter = 1\n",
    "result += f\"{counter}{current}\"\n",
    "\n",
    "print(f\"{src} -> {result}\")"
   ]
  },
  {
   "cell_type": "markdown",
   "id": "f24d5e58",
   "metadata": {},
   "source": [
    "## Задание 4: Шифр Цезаря\n",
    "\n",
    "Реализуйте программу для шифрования текста с помощью шифра Цезаря.  \n",
    "Шифр Цезаря — это метод шифрования, при котором каждая буква в тексте заменяется буквой, стоящей на фиксированное число позиций дальше в алфавите.\n",
    "\n",
    "### Требования\n",
    "1. Программа должна принимать на вход:\n",
    "   - Строку текста для шифрования\n",
    "   - Ключ шифра (число от 0 до 25)\n",
    "\n",
    "2. Правила шифрования:\n",
    "   - Шифруются только латинские буквы (a-z, A-Z)\n",
    "   - Сохраняется регистр букв (заглавные остаются заглавными)\n",
    "   - Пробелы, цифры и знаки препинания остаются без изменений\n",
    "   - Сдвиг циклический (после 'z' идет 'a', после 'Z' идет 'A')\n",
    "\n",
    "### Примеры\n",
    "\n",
    "* `\"Hello World\", 3      -> \"Khoor Zruog\"`\n",
    "* `\"Python is great!\", 5 -> \"Udymts nx lwjfy!\"`\n",
    "* `\"XYZ abc\", 3          -> \"ABC def\"`\n",
    "* `\"Test 123\", 1         -> \"Uftu 123\"`\n",
    "\n",
    "### Алгоритм\n",
    "* Для каждого символа в строке:\n",
    "   - Если это латинская буква, найти её позицию в алфавите\n",
    "   - Добавить к позиции значение ключа\n",
    "   - Если результат больше 25, использовать остаток от деления на 26\n",
    "   - Преобразовать обратно в букву, сохранив регистр\n",
    "   - Если это не буква, оставить символ без изменений\n"
   ]
  },
  {
   "cell_type": "code",
   "execution_count": null,
   "id": "6a075d20",
   "metadata": {},
   "outputs": [],
   "source": [
    "src = input(\"Input string: \")\n",
    "key = input(\"Input key: \")\n",
    "\n",
    "result = \"\"\n",
    "\n",
    "for char in src:\n",
    "    if char.isalpha():\n",
    "        if char.isupper():\n",
    "            base = ord('A')\n",
    "        else:\n",
    "            base = ord('a')\n",
    "        result += chr((ord(char) - base + int(key)) % 26 + base)  \n",
    "        \n",
    "    # если пробелы шифруются  \n",
    "    #elif char == ' ':\n",
    "    #    result += ' '\n",
    "\n",
    "    # если пробелы не шифруются \n",
    "    else:\n",
    "        continue\n",
    "\n",
    "print(f\"{src} -> {result}\")"
   ]
  },
  {
   "cell_type": "markdown",
   "id": "c88bf52c",
   "metadata": {},
   "source": [
    "## Задание 5: Табель успеваемости\n",
    "\n",
    "Пользователь в бесконечном цикле (пока не будет введена пустая строка) вводит строки вида: 'название предмета' 'фамилия ученика' 'оценка'. После окончания ввода программа выводит в консоль название предмета, далее список учеников и все их оценки в виде таблицы.\n",
    "\n",
    "<br>\n",
    "\n",
    "**Примеры:**\n",
    "\n",
    "<br>\n",
    "\n",
    "*Ввод:*\n",
    "```python\n",
    "Математика Иванов  5\n",
    "Математика Иванов  4\n",
    "Литература Иванов  3\n",
    "Математика Петров  5\n",
    "Литература Сидоров 3\n",
    "Литература Петров  5\n",
    "Литература Иванов  4\n",
    "Математика Сидоров 3\n",
    "Математика Петров  5\n",
    "```\n",
    "\n",
    "<br>\n",
    "\n",
    "*Результат:*\n",
    "```python\n",
    "Математика # вводим название предмета\n",
    "\n",
    "# выводим список учеников и их оценки\n",
    "Иванов  5 4\n",
    "Петров  5 5\n",
    "Сидоров 3\n",
    "```\n",
    "\n",
    "```python\n",
    "Литература # вводим название предмета\n",
    "\n",
    "# выводим список учеников и их оценки\n",
    "Иванов  3 4\n",
    "Сидоров 3\n",
    "Петров  5\n",
    "```"
   ]
  },
  {
   "cell_type": "code",
   "execution_count": null,
   "id": "196f6ff4",
   "metadata": {},
   "outputs": [],
   "source": [
    "src = input()\n",
    "\n",
    "subjects = {}\n",
    "\n",
    "while src:\n",
    "    mark = src.split(' ')\n",
    "\n",
    "    if mark[0] not in subjects:\n",
    "        subjects[mark[0]] = {}\n",
    "\n",
    "    if mark[1] not in subjects[mark[0]]:\n",
    "        subjects[mark[0]][mark[1]] = []\n",
    "\n",
    "    subjects[mark[0]][mark[1]].append(mark[2])\n",
    "\n",
    "    src = input()\n",
    "\n",
    "for subject in subjects:\n",
    "    print(subject)\n",
    "    for student in subjects[subject]:\n",
    "        print(f\"  {student} {' '.join(subjects[subject][student])}\")\n",
    "    print()"
   ]
  }
 ],
 "metadata": {
  "kernelspec": {
   "display_name": "Python 3",
   "language": "python",
   "name": "python3"
  },
  "language_info": {
   "codemirror_mode": {
    "name": "ipython",
    "version": 3
   },
   "file_extension": ".py",
   "mimetype": "text/x-python",
   "name": "python",
   "nbconvert_exporter": "python",
   "pygments_lexer": "ipython3",
   "version": "3.12.6"
  }
 },
 "nbformat": 4,
 "nbformat_minor": 5
}
